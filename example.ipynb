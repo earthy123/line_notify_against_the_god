{
 "cells": [
  {
   "cell_type": "code",
   "execution_count": 1,
   "metadata": {},
   "outputs": [],
   "source": [
    "#!/usr/bin/env python\n",
    "# coding: utf-8\n",
    "\n",
    "# In[10]:\n",
    "\n",
    "\n",
    "from selenium import webdriver\n",
    "from selenium.webdriver.common.by import By\n",
    "from selenium.webdriver.support.ui import WebDriverWait\n",
    "from selenium.webdriver.support import expected_conditions as EC\n",
    "from selenium.common.exceptions import TimeoutException\n",
    "from bs4 import BeautifulSoup\n",
    "import requests\n",
    "import time\n",
    "import os\n",
    "import datetime\n",
    "import sys\n",
    "# reload(sys)\n",
    "# sys.setdefaultencoding('utf-8')"
   ]
  },
  {
   "cell_type": "code",
   "execution_count": 51,
   "metadata": {},
   "outputs": [],
   "source": [
    "th_file_name = 'against_the_god_lastest_ch.txt'\n",
    "eng_file_name = 'against_the_god_lastest_ch_eng.txt'\n",
    "current_path =os.getcwd()\n",
    "line_url ='https://notify-api.line.me/api/notify'\n",
    "authen = 'Bearer YOUR TOKEN'\n",
    "eng_url =\"https://lnmtl.com/novel/against-the-gods\"\n",
    "th_url =\"https://www.kawebook.com/story/70/%E0%B8%99%E0%B8%B4%E0%B8%A2%E0%B8%B2%E0%B8%A2/%E0%B8%99%E0%B8%B4%E0%B8%A2%E0%B8%B2%E0%B8%A2-%E0%B8%88%E0%B8%B5%E0%B8%99-%E0%B8%81%E0%B8%B3%E0%B8%A5%E0%B8%B1%E0%B8%87%E0%B8%A0%E0%B8%B2%E0%B8%A2%E0%B9%83%E0%B8%99-%E0%B9%80%E0%B8%97%E0%B8%9E%E0%B9%80%E0%B8%8B%E0%B8%B5%E0%B8%A2%E0%B8%99/%E0%B8%AD%E0%B8%AA%E0%B8%B9%E0%B8%A3%E0%B8%9E%E0%B8%A5%E0%B8%B4%E0%B8%81%E0%B8%9F%E0%B9%89%E0%B8%B2-Against-the-Gods\""
   ]
  },
  {
   "cell_type": "code",
   "execution_count": 3,
   "metadata": {},
   "outputs": [],
   "source": [
    "th_xpath = \"//*[text()='รีวิว']\"\n",
    "eng_xpath = \"//*[@id=\\\"app\\\"]/main/div[2]/div/div[1]/div[1]/div/h3\""
   ]
  },
  {
   "cell_type": "code",
   "execution_count": 4,
   "metadata": {},
   "outputs": [],
   "source": [
    "def send_noti(URL,Authorization,text):\n",
    "    r = requests.post(URL,headers={'Authorization': Authorization}, data = {'message':text})\n"
   ]
  },
  {
   "cell_type": "code",
   "execution_count": 9,
   "metadata": {},
   "outputs": [],
   "source": [
    "def get_component(URL,X_PATH):\n",
    "    timeout = 10\n",
    "    options = webdriver.ChromeOptions()\n",
    "    options.add_argument('--headless')\n",
    "    options.add_argument(\"--incognito\")\n",
    "    browser = webdriver.Chrome(current_path+'/chromedriver',options=options)\n",
    "    browser.get(URL)\n",
    "    \n",
    "    \n",
    "    try:\n",
    "        WebDriverWait(browser,timeout).until(EC.visibility_of_element_located((By.XPATH,X_PATH)))\n",
    "    except TimeoutException:\n",
    "        print(\"timeout wait page for load\")\n",
    "        browser.quit()\n",
    "    html = browser.page_source\n",
    "    soup = BeautifulSoup(html, \"lxml\")\n",
    "    return soup"
   ]
  },
  {
   "cell_type": "code",
   "execution_count": 40,
   "metadata": {},
   "outputs": [],
   "source": [
    "def load_prev(FILE_NAME):\n",
    "    if os.path.isfile(FILE_NAME)!=True:\n",
    "        previous_ch=''\n",
    "        with open(FILE_NAME,'w') as f:\n",
    "            f.write('')\n",
    "    else:\n",
    "        with open(FILE_NAME,'r') as f:\n",
    "            previous_ch = f.read()\n",
    "    \n",
    "    return previous_ch\n",
    "#     print('done at: ',datetime.datetime.now())"
   ]
  },
  {
   "cell_type": "code",
   "execution_count": 69,
   "metadata": {},
   "outputs": [],
   "source": [
    "def check_new_chapter(P_CH,C_CH,FILE_NAME,AUTHEN):\n",
    "    if P_CH!=C_CH:\n",
    "        text=' '+C_CH\n",
    "        send_noti(line_url,AUTHEN,text)\n",
    "        with open(FILE_NAME,'w') as f:\n",
    "            f.write(C_CH)\n",
    "    else:\n",
    "        text='ยังไม่มีตอนใหม่'\n",
    "        send_noti(line_url,AUTHEN,text)\n",
    "    print('CH: ',C_CH)\n",
    "    print('done at: ',datetime.datetime.now())"
   ]
  },
  {
   "cell_type": "code",
   "execution_count": 70,
   "metadata": {},
   "outputs": [],
   "source": [
    "th_soup =get_component(th_url,th_xpath)\n",
    "eng_soup =get_component(eng_url,eng_xpath)"
   ]
  },
  {
   "cell_type": "code",
   "execution_count": 71,
   "metadata": {},
   "outputs": [],
   "source": [
    "th_component =soup_th.find_all(class_=\"purple-color-light\")[-1]\n",
    "th_current_ch =th_compoent.get_text().strip()"
   ]
  },
  {
   "cell_type": "code",
   "execution_count": 72,
   "metadata": {},
   "outputs": [],
   "source": [
    "eng_component = eng_soup.find_all(class_=\"badge chapter-badge\")[0]\n",
    "eng_current_ch =eng_component.get_text().strip()"
   ]
  },
  {
   "cell_type": "code",
   "execution_count": 73,
   "metadata": {},
   "outputs": [
    {
     "name": "stdout",
     "output_type": "stream",
     "text": [
      "CH:  เล่มที่ 45 บทที่ 1346 ฝันร้ายเทพดารา\n",
      "done at:  2019-03-08 17:23:34.763843\n"
     ]
    }
   ],
   "source": [
    "th_previous_ch = load_prev(th_file_name)\n",
    "check_new_chapter(th_previous_ch,th_current_ch,th_file_name,authen)"
   ]
  },
  {
   "cell_type": "code",
   "execution_count": 74,
   "metadata": {},
   "outputs": [
    {
     "name": "stdout",
     "output_type": "stream",
     "text": [
      "CH:  #1347\n",
      "done at:  2019-03-08 17:23:35.387270\n"
     ]
    }
   ],
   "source": [
    "eng_previous_ch = load_prev(eng_file_name)\n",
    "check_new_chapter(eng_previous_ch,eng_current_ch,eng_file_name,authen)"
   ]
  },
  {
   "cell_type": "code",
   "execution_count": null,
   "metadata": {},
   "outputs": [],
   "source": []
  }
 ],
 "metadata": {
  "kernelspec": {
   "display_name": "Python 3",
   "language": "python",
   "name": "python3"
  },
  "language_info": {
   "codemirror_mode": {
    "name": "ipython",
    "version": 3
   },
   "file_extension": ".py",
   "mimetype": "text/x-python",
   "name": "python",
   "nbconvert_exporter": "python",
   "pygments_lexer": "ipython3",
   "version": "3.6.5"
  }
 },
 "nbformat": 4,
 "nbformat_minor": 2
}
