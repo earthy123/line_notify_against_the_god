{
 "cells": [
  {
   "cell_type": "markdown",
   "metadata": {},
   "source": [
    "## Requirement before install"
   ]
  },
  {
   "cell_type": "markdown",
   "metadata": {},
   "source": [
    "### Versions\n",
    "CHROME_DRIVER_VERSION=`curl -sS chromedriver.storage.googleapis.com/LATEST_RELEASE`\n",
    "SELENIUM_STANDALONE_VERSION=3.4.0\n",
    "SELENIUM_SUBDIR=$(echo \"$SELENIUM_STANDALONE_VERSION\" | cut -d\".\" -f-2)\n",
    "\n",
    "### Remove existing downloads and binaries so we can start from scratch.\n",
    "sudo apt-get remove google-chrome-stable\n",
    "rm ~/selenium-server-standalone-*.jar\n",
    "rm ~/chromedriver_linux64.zip\n",
    "sudo rm /usr/local/bin/chromedriver\n",
    "sudo rm /usr/local/bin/selenium-server-standalone.jar\n",
    "\n",
    "### Install dependencies.\n",
    "sudo apt-get update\n",
    "sudo apt-get install -y unzip openjdk-8-jre-headless xvfb libxi6 libgconf-2-4\n",
    "\n",
    "### Install Chromium.\n",
    "sudo apt install -y chromium-browser\n",
    "\n",
    "### Install ChromeDriver.\n",
    "wget -N http://chromedriver.storage.googleapis.com/$CHROME_DRIVER_VERSION/chromedriver_linux64.zip -P ~/\n",
    "unzip ~/chromedriver_linux64.zip -d ~/\n",
    "rm ~/chromedriver_linux64.zip\n",
    "sudo mv -f ~/chromedriver /usr/local/bin/chromedriver\n",
    "sudo chown root:root /usr/local/bin/chromedriver\n",
    "sudo chmod 0755 /usr/local/bin/chromedriver\n",
    "\n"
   ]
  },
  {
   "cell_type": "markdown",
   "metadata": {},
   "source": [
    "## Package before install\n"
   ]
  },
  {
   "cell_type": "markdown",
   "metadata": {},
   "source": [
    "### Install Pip.\n",
    "sudo apt install python-pip -y\n",
    "\n",
    "\n",
    "### Install Selenium.\n",
    "python -m pip install -U selenium\n",
    "\n",
    "### Install BeautifulSoup4.\n",
    "sudo apt-get install python-bs4 -y\n",
    "\n",
    "### Install Requests.\n",
    "pip install requests"
   ]
  },
  {
   "cell_type": "code",
   "execution_count": null,
   "metadata": {},
   "outputs": [],
   "source": [
    "#!/usr/bin/env python\n",
    "# coding: utf-8\n",
    "\n",
    "# In[10]:\n",
    "\n",
    "\n",
    "from selenium import webdriver\n",
    "from selenium.webdriver.common.by import By\n",
    "from selenium.webdriver.support.ui import WebDriverWait\n",
    "from selenium.webdriver.support import expected_conditions as EC\n",
    "from selenium.common.exceptions import TimeoutException\n",
    "from bs4 import BeautifulSoup\n",
    "import requests\n",
    "import time\n",
    "import os\n",
    "import datetime\n",
    "import sys\n",
    "# reload(sys)\n",
    "# sys.setdefaultencoding('utf-8')"
   ]
  },
  {
   "cell_type": "code",
   "execution_count": 2,
   "metadata": {},
   "outputs": [],
   "source": [
    "file_name = 'against_the_god_lastest_ch.txt'\n",
    "current_path =os.getcwd()\n",
    "url ='https://notify-api.line.me/api/notify'\n",
    "authen = 'Bearer YOUR TOKEN'"
   ]
  },
  {
   "cell_type": "code",
   "execution_count": 4,
   "metadata": {},
   "outputs": [],
   "source": [
    "def send_noti(URL,Authorization,text):\n",
    "    r = requests.post(URL,headers={'Authorization': Authorization}, data = {'message':text})\n"
   ]
  },
  {
   "cell_type": "code",
   "execution_count": 5,
   "metadata": {},
   "outputs": [],
   "source": [
    "victim_url =\"https://www.kawebook.com/story/70/%E0%B8%99%E0%B8%B4%E0%B8%A2%E0%B8%B2%E0%B8%A2/%E0%B8%99%E0%B8%B4%E0%B8%A2%E0%B8%B2%E0%B8%A2-%E0%B8%88%E0%B8%B5%E0%B8%99-%E0%B8%81%E0%B8%B3%E0%B8%A5%E0%B8%B1%E0%B8%87%E0%B8%A0%E0%B8%B2%E0%B8%A2%E0%B9%83%E0%B8%99-%E0%B9%80%E0%B8%97%E0%B8%9E%E0%B9%80%E0%B8%8B%E0%B8%B5%E0%B8%A2%E0%B8%99/%E0%B8%AD%E0%B8%AA%E0%B8%B9%E0%B8%A3%E0%B8%9E%E0%B8%A5%E0%B8%B4%E0%B8%81%E0%B8%9F%E0%B9%89%E0%B8%B2-Against-the-Gods\""
   ]
  },
  {
   "cell_type": "code",
   "execution_count": 6,
   "metadata": {},
   "outputs": [],
   "source": [
    "current_path =os.getcwd()"
   ]
  },
  {
   "cell_type": "code",
   "execution_count": 7,
   "metadata": {},
   "outputs": [
    {
     "name": "stderr",
     "output_type": "stream",
     "text": [
      "/home/earth/miniconda3/lib/python3.6/site-packages/ipykernel_launcher.py:4: DeprecationWarning: use options instead of chrome_options\n",
      "  after removing the cwd from sys.path.\n"
     ]
    }
   ],
   "source": [
    "options = webdriver.ChromeOptions()\n",
    "options.add_argument('--headless')\n",
    "options.add_argument(\"--incognito\")\n",
    "browser = webdriver.Chrome(current_path+'/chromedriver',chrome_options=options)\n",
    "browser.get(victim_url)"
   ]
  },
  {
   "cell_type": "code",
   "execution_count": 8,
   "metadata": {},
   "outputs": [],
   "source": [
    "timeout = 10\n",
    "try:\n",
    "    WebDriverWait(browser,timeout).until(EC.visibility_of_element_located((By.XPATH,\"//*[text()='รีวิว']\")))\n",
    "except TimeoutException:\n",
    "    print(\"timeout wait page for load\")\n",
    "    browser.quit()"
   ]
  },
  {
   "cell_type": "code",
   "execution_count": 9,
   "metadata": {},
   "outputs": [],
   "source": [
    "html = browser.page_source\n",
    "soup = BeautifulSoup(html, \"lxml\")\n",
    "pos = soup.find_all(class_=\"purple-color-light\")[-1]\n",
    "browser.quit()"
   ]
  },
  {
   "cell_type": "code",
   "execution_count": 10,
   "metadata": {},
   "outputs": [],
   "source": [
    "current_ch =(pos.get_text().strip())"
   ]
  },
  {
   "cell_type": "code",
   "execution_count": 11,
   "metadata": {},
   "outputs": [],
   "source": [
    "if os.path.isfile(file_name)!=True:\n",
    "    previous_ch=''\n",
    "    with open(file_name,'w') as f:\n",
    "        f.write('')\n",
    "else:\n",
    "    with open(file_name,'r') as f:\n",
    "        previous_ch = f.read()"
   ]
  },
  {
   "cell_type": "code",
   "execution_count": 12,
   "metadata": {},
   "outputs": [
    {
     "name": "stdout",
     "output_type": "stream",
     "text": [
      "done at:  2019-03-03 16:21:38.454093\n"
     ]
    }
   ],
   "source": [
    "print('done at: ',datetime.datetime.now())"
   ]
  },
  {
   "cell_type": "code",
   "execution_count": null,
   "metadata": {},
   "outputs": [],
   "source": []
  }
 ],
 "metadata": {
  "kernelspec": {
   "display_name": "Python 3",
   "language": "python",
   "name": "python3"
  },
  "language_info": {
   "codemirror_mode": {
    "name": "ipython",
    "version": 3
   },
   "file_extension": ".py",
   "mimetype": "text/x-python",
   "name": "python",
   "nbconvert_exporter": "python",
   "pygments_lexer": "ipython3",
   "version": "3.6.5"
  }
 },
 "nbformat": 4,
 "nbformat_minor": 2
}
